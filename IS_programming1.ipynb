{
  "nbformat": 4,
  "nbformat_minor": 0,
  "metadata": {
    "colab": {
      "name": "IS-programming1.ipynb",
      "provenance": [],
      "collapsed_sections": [],
      "authorship_tag": "ABX9TyMUBdtfUZlWx0q9LGXz2Ll6",
      "include_colab_link": true
    },
    "kernelspec": {
      "name": "python3",
      "display_name": "Python 3"
    }
  },
  "cells": [
    {
      "cell_type": "markdown",
      "metadata": {
        "id": "view-in-github",
        "colab_type": "text"
      },
      "source": [
        "<a href=\"https://colab.research.google.com/github/hajimu/IS-Programming/blob/main/IS_programming1.ipynb\" target=\"_parent\"><img src=\"https://colab.research.google.com/assets/colab-badge.svg\" alt=\"Open In Colab\"/></a>"
      ]
    },
    {
      "cell_type": "markdown",
      "metadata": {
        "id": "UEJBilI6XcwU"
      },
      "source": [
        "#3. An Informal Introduction to Python\n",
        "> Quoted from <https://docs.python.org/3/tutorial/introduction.html> view original pages for detail. ([Japanese version available](https://docs.python.org/ja/3/tutorial/introduction.html)): \n",
        "\n",
        "In the following examples, input and output are distinguished by the presence or absence of prompts (>>> and …): to repeat the example, you must type everything after the prompt, when the prompt appears; lines that do not begin with a prompt are output from the interpreter. Note that a secondary prompt on a line by itself in an example means you must type a blank line; this is used to end a multi-line command.\n",
        "Many of the examples in this manual, even those entered at the interactive prompt, include comments. Comments in Python start with the hash character,?#, and extend to the end of the physical line. A comment may appear at the start of a line or following whitespace or code, but not within a string literal. A hash character within a string literal is just a hash character. Since comments are to clarify code and are not interpreted by Python, they may be omitted when typing in examples.\n",
        "Some examples:\n",
        "```\n",
        "# this is the first comment\n",
        "spam = 1  # and this is the second comment\n",
        "          # ... and now a third!\n",
        "text = \"# This is not a comment because it's inside quotes.\" \n",
        "```"
      ]
    },
    {
      "cell_type": "markdown",
      "metadata": {
        "id": "inka6tDSYARV"
      },
      "source": [
        "## 3.1. Using Python as a Calculator\n",
        "Let’s try some simple Python commands. Start the interpreter and wait for the primary prompt, >>>. (It shouldn’t take long.)\n",
        "\n",
        "###3.1.1. Numbers\n",
        "The interpreter acts as a simple calculator: you can type an expression at it and it will write the value. Expression syntax is straightforward: the operators +, -, * and / work just like in most other languages (for example, Pascal or C); parentheses (()) can be used for grouping. For example:"
      ]
    },
    {
      "cell_type": "code",
      "metadata": {
        "id": "8HFchn4fakwE"
      },
      "source": [
        "2 + 2"
      ],
      "execution_count": null,
      "outputs": []
    },
    {
      "cell_type": "code",
      "metadata": {
        "id": "vmmqp9k2akQm"
      },
      "source": [
        "50 - 5*6"
      ],
      "execution_count": null,
      "outputs": []
    },
    {
      "cell_type": "code",
      "metadata": {
        "id": "nMQE8NNYaj6U"
      },
      "source": [
        "(50 - 5*6) / 4"
      ],
      "execution_count": null,
      "outputs": []
    },
    {
      "cell_type": "code",
      "metadata": {
        "id": "OXNYZMMUZVj4"
      },
      "source": [
        "8 / 5  # division always returns a floating point number"
      ],
      "execution_count": null,
      "outputs": []
    },
    {
      "cell_type": "markdown",
      "metadata": {
        "id": "sl8HUhnQaHwY"
      },
      "source": [
        "The integer numbers (e.g. 2, 4, 20) have type ***int***, the ones with a fractional part (e.g. 5.0, 1.6) have type ***float***. We will see more about numeric types later in the tutorial.\n",
        "\n",
        "Division (/) always returns a float. To do floor division and get an integer result (discarding any fractional result) you can use the // operator; to calculate the remainder you can use %:\n",
        "```\n",
        "17 / 3  # classic division returns a float\n",
        "\n",
        "17 // 3  # floor division discards the fractional part\n",
        "\n",
        "17 % 3  # the % operator returns the remainder of the division\n",
        "\n",
        "5 * 3 + 2  # result * divisor + remainder\n",
        "```\n",
        "\n"
      ]
    },
    {
      "cell_type": "code",
      "metadata": {
        "id": "BlwUMTpdbG3e"
      },
      "source": [
        "17 / 3  # classic division returns a float\n",
        "print\n",
        "17 // 3  # floor division discards the fractional part\n",
        "print()\n",
        "17 % 3  # the % operator returns the remainder of the division\n",
        "print()\n",
        "5 * 3 + 2  # result * divisor + remainder"
      ],
      "execution_count": null,
      "outputs": []
    },
    {
      "cell_type": "markdown",
      "metadata": {
        "id": "r8x49PsDbLlM"
      },
      "source": [
        "### 3.1.2. Strings\n",
        "Besides numbers, Python can also manipulate strings, which can be expressed in several ways. They can be enclosed in single quotes ('...') or double quotes (\"...\") with the same result 2. \\ can be used to escape quotes:\n",
        "\n",
        "```\n",
        ">>> 'spam eggs'  # single quotes\n",
        "'spam eggs'\n",
        ">>> 'doesn\\'t'  # use \\' to escape the single quote...\n",
        "\"doesn't\"\n",
        ">>> \"doesn't\"  # ...or use double quotes instead\n",
        "\"doesn't\"\n",
        ">>> '\"Yes,\" they said.'\n",
        "'\"Yes,\" they said.'\n",
        ">>> \"\\\"Yes,\\\" they said.\"\n",
        "'\"Yes,\" they said.'\n",
        ">>> '\"Isn\\'t,\" they said.'\n",
        "'\"Isn\\'t,\" they said.'\n",
        "```\n",
        "...\n",
        "\n",
        "Strings can be concatenated (glued together) with the + operator, and repeated with *:\n",
        "```\n",
        "# 3 times 'un', followed by 'ium'\n",
        "3 * 'un' + 'ium'\n",
        "```\n",
        "\n"
      ]
    }
  ]
}